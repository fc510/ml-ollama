{
 "cells": [
  {
   "cell_type": "code",
   "execution_count": 7,
   "metadata": {},
   "outputs": [],
   "source": [
    "from langchain_ollama import OllamaLLM\n",
    "\n",
    "from langchain_community.chat_models import ChatOllama\n",
    "from langchain_core.messages import HumanMessage,SystemMessage,AIMessage\n",
    "from langchain_core.output_parsers import StrOutputParser\n",
    "from langchain_core import prompts\n",
    "from langchain_core.prompts import ChatPromptTemplate\n",
    "\n",
    "#llm = OllamaLLM(model=\"llama3.1\")\n",
    "\n",
    "OLLAMA_HOST = \"http://192.168.1.5:11434\"\n",
    "OLLAMA_MODEL = \"llama3.2:3b\"\n",
    "llm = ChatOllama(base_url=OLLAMA_HOST, model=OLLAMA_MODEL)\n",
    "\n",
    "\n",
    "##Creating the Prompt Template with the required data\n",
    "messages = [\n",
    "    SystemMessage(content=\"You are very good Kubernetes expert.With your indepth knowledge of kuberetes \\\n",
    "    and cloud technology you will find out or extract relevant topics and keyphrases that explains input text chunk.\\\n",
    "    You will output the extratcted topics or keyphrases in form of a list\"),\n",
    "    HumanMessage(\n",
    "        content=\"Through the years, Google developed an internal system called Borg (and later a new \\\n",
    "system called Omega), that helped both application developers and system administra- \\\n",
    "tors manage those thousands of applications and services. In addition to simplifying \\\n",
    "the development and management, it also helped them achieve a much higher utiliza- \\\n",
    "tion of their infrastructure, which is important when your organization is that large. \\\n",
    "When you run hundreds of thousands of machines, even tiny improvements in utiliza- \\\n",
    "tion mean savings in the millions of dollars, so the incentives for developing such a \\\n",
    "system are clear. \\\n",
    "After having kept Borg and Omega secret for a whole decade, in 2014 Google \\\n",
    "introduced Kubernetes, an open-source system based on the experience gained \\\n",
    "through Borg, Omega, and other internal Google systems.\"\n",
    "    )\n",
    "]\n"
   ]
  },
  {
   "cell_type": "code",
   "execution_count": null,
   "metadata": {},
   "outputs": [],
   "source": [
    "\n",
    "prompt = ChatPromptTemplate(messages=messages, output_parser=StrOutputParser())\n",
    "response = llm.invoke(messages)\n",
    "print(response)"
   ]
  },
  {
   "cell_type": "code",
   "execution_count": 6,
   "metadata": {},
   "outputs": [
    {
     "name": "stdout",
     "output_type": "stream",
     "text": [
      "{'additional_kwargs': {},\n",
      " 'content': 'Here is the list of extracted topics and keyphrases that explain '\n",
      "            'the input text chunk:\\n'\n",
      "            '\\n'\n",
      "            '* **Topic:** Container orchestration systems\\n'\n",
      "            '* **Keyphrases:**\\n'\n",
      "            '\\t+ \"Borg\" (Google\\'s internal system)\\n'\n",
      "            '\\t+ \"Omega\" (Google\\'s internal system, later replaced by '\n",
      "            'Kubernetes)\\n'\n",
      "            '\\t+ \"Kubernetes\" (open-source container orchestration system)\\n'\n",
      "            '\\t+ \"Container management\"\\n'\n",
      "            '\\t+ \"Infrastructure utilization\"\\n'\n",
      "            '\\t+ \"Cloud computing\"\\n'\n",
      "            '\\t+ \"System administration\"\\n'\n",
      "            '\\t+ \"Application development\"\\n'\n",
      "            '* **Technological concepts:**\\n'\n",
      "            '\\t+ Containerization\\n'\n",
      "            '\\t+ Orchestration\\n'\n",
      "            '\\t+ Infrastructure as a Service (IaaS)\\n'\n",
      "            '\\t+ Platform as a Service (PaaS)\\n'\n",
      "            '* **Business context:**\\n'\n",
      "            '\\t+ Cost savings through efficient infrastructure utilization\\n'\n",
      "            '\\t+ Large-scale organization management\\n'\n",
      "            '\\t+ Development and management of thousands of applications and '\n",
      "            'services',\n",
      " 'example': False,\n",
      " 'id': 'run-68e4cfa3-9a82-4cca-bd60-a85b62057d71-0',\n",
      " 'invalid_tool_calls': [],\n",
      " 'name': None,\n",
      " 'response_metadata': {'created_at': '2025-03-15T13:52:55.647818863Z',\n",
      "                       'done': True,\n",
      "                       'done_reason': 'stop',\n",
      "                       'eval_count': 178,\n",
      "                       'eval_duration': 9686000000,\n",
      "                       'load_duration': 20108792,\n",
      "                       'message': {'content': '', 'role': 'assistant'},\n",
      "                       'model': 'llama3.2:3b',\n",
      "                       'prompt_eval_count': 230,\n",
      "                       'prompt_eval_duration': 55000000,\n",
      "                       'total_duration': 9763806876},\n",
      " 'tool_calls': [],\n",
      " 'type': 'ai',\n",
      " 'usage_metadata': None}\n"
     ]
    }
   ],
   "source": [
    "from pprint import pprint\n",
    "pprint(response.model_dump())"
   ]
  },
  {
   "cell_type": "code",
   "execution_count": 11,
   "metadata": {},
   "outputs": [
    {
     "name": "stdout",
     "output_type": "stream",
     "text": [
      "LangChain is an open-source framework designed to simplify the integration of blockchain data into web applications and other decentralized systems. It aims to provide a standardized interface for interacting with blockchain-based data sources, making it easier for developers to work with blockchain data in their projects.\n",
      "\n",
      "Here are some key features and benefits of LangChain:\n",
      "\n",
      "1. **Standardized API**: LangChain provides a standardized API that allows developers to easily interact with various blockchain platforms, such as Ethereum, Solana, and Polkadot.\n",
      "2. **Decentralized Data Storage**: It supports decentralized data storage solutions like IPFS (InterPlanetary File System) and Arweave, allowing for secure and censorship-resistant data storage.\n",
      "3. **Smart Contract Integration**: LangChain enables seamless integration with smart contracts on various blockchain platforms, facilitating the creation of decentralized applications (dApps).\n",
      "4. **Blockchain Agnostic**: The framework is designed to be blockchain-agnostic, meaning it can work with multiple blockchain protocols without requiring significant modifications.\n",
      "\n",
      "By providing a standardized interface for working with blockchain data, LangChain helps bridge the gap between decentralized systems and web applications, making it easier for developers to build scalable and secure dApps.\n"
     ]
    }
   ],
   "source": [
    "from langchain_core.prompts import ChatPromptTemplate\n",
    "from langchain_ollama.llms import OllamaLLM\n",
    "\n",
    "OLLAMA_HOST = \"http://192.168.1.5:11434\"\n",
    "OLLAMA_MODEL = \"llama3.2:3b\"\n",
    "# llm = ChatOllama(base_url=OLLAMA_HOST, model=OLLAMA_MODEL)\n",
    "\n",
    "template = \"\"\"Question: {question}\n",
    "\n",
    "Answer: Let's think step by step.\"\"\"\n",
    "\n",
    "prompt = ChatPromptTemplate.from_template(template)\n",
    "\n",
    "# model = OllamaLLM(model=\"llama3.2:3b\")\n",
    "model = ChatOllama(base_url=OLLAMA_HOST, model=OLLAMA_MODEL)\n",
    "\n",
    "chain = prompt | model\n",
    "\n",
    "message = chain.invoke({\"question\": \"What is LangChain?\"})\n",
    "\n",
    "print(message.content)"
   ]
  }
 ],
 "metadata": {
  "kernelspec": {
   "display_name": ".venv",
   "language": "python",
   "name": "python3"
  },
  "language_info": {
   "codemirror_mode": {
    "name": "ipython",
    "version": 3
   },
   "file_extension": ".py",
   "mimetype": "text/x-python",
   "name": "python",
   "nbconvert_exporter": "python",
   "pygments_lexer": "ipython3",
   "version": "3.13.1"
  }
 },
 "nbformat": 4,
 "nbformat_minor": 2
}
