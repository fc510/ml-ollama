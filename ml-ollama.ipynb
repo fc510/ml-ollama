{
 "cells": [
  {
   "cell_type": "code",
   "execution_count": 1,
   "metadata": {},
   "outputs": [
    {
     "name": "stdout",
     "output_type": "stream",
     "text": [
      "model='llama3.2:3b' created_at='2025-03-15T13:17:17.103340551Z' done=True done_reason='stop' total_duration=16152577778 load_duration=19984912 prompt_eval_count=31 prompt_eval_duration=53000000 eval_count=298 eval_duration=16078000000 message=Message(role='assistant', content=\"The sky appears blue because of a phenomenon called scattering, which occurs when sunlight interacts with tiny molecules of gases in the Earth's atmosphere.\\n\\nHere's what happens:\\n\\n1. Sunlight enters the Earth's atmosphere and is made up of different colors, including red, orange, yellow, green, blue, indigo, and violet.\\n2. When sunlight encounters tiny molecules of gases such as nitrogen (N2) and oxygen (O2), it scatters in all directions.\\n3. The shorter wavelengths of light, like blue and violet, are scattered more than the longer wavelengths, like red and orange. This is known as Rayleigh scattering, named after the British physicist Lord Rayleigh, who first described it in the late 19th century.\\n4. As a result, the blue light is dispersed in all directions and reaches our eyes from all parts of the sky, giving it a blue appearance.\\n\\nThe color of the sky can change under different conditions:\\n\\n* During sunrise and sunset, the sky often appears red or orange due to scattering by atmospheric particles.\\n* At night, the sky can appear darker because there is less direct sunlight, but it may still take on hues of blue or purple if atmospheric conditions are favorable.\\n* In areas with high levels of air pollution or dust, the sky can appear hazy or gray.\\n\\nSo, in short, the sky appears blue because of the scattering of sunlight by tiny molecules in the atmosphere, which favors shorter wavelengths like blue and violet.\", images=None, tool_calls=None)\n"
     ]
    }
   ],
   "source": [
    "from ollama import Client\n",
    "\n",
    "# Create a new client\n",
    "client = Client(host='http://192.168.1.5:11434')\n",
    "response = client.chat(model='llama3.2:3b', messages=[\n",
    "  {\n",
    "    'role': 'user',\n",
    "    'content': 'Why is the sky blue?',\n",
    "  },\n",
    "])\n",
    "\n",
    "\n",
    "print(response)"
   ]
  },
  {
   "cell_type": "code",
   "execution_count": null,
   "metadata": {},
   "outputs": [
    {
     "name": "stdout",
     "output_type": "stream",
     "text": [
      "{\n",
      "    \"model\": \"llama3.2:3b\",\n",
      "    \"created_at\": \"2025-03-15T13:17:17.103340551Z\",\n",
      "    \"done\": true,\n",
      "    \"done_reason\": \"stop\",\n",
      "    \"total_duration\": 16152577778,\n",
      "    \"load_duration\": 19984912,\n",
      "    \"prompt_eval_count\": 31,\n",
      "    \"prompt_eval_duration\": 53000000,\n",
      "    \"eval_count\": 298,\n",
      "    \"eval_duration\": 16078000000,\n",
      "    \"message\": {\n",
      "        \"role\": \"assistant\",\n",
      "        \"content\": \"The sky appears blue because of a phenomenon called scattering, which occurs when sunlight interacts with tiny molecules of gases in the Earth's atmosphere.\\n\\nHere's what happens:\\n\\n1. Sunlight enters the Earth's atmosphere and is made up of different colors, including red, orange, yellow, green, blue, indigo, and violet.\\n2. When sunlight encounters tiny molecules of gases such as nitrogen (N2) and oxygen (O2), it scatters in all directions.\\n3. The shorter wavelengths of light, like blue and violet, are scattered more than the longer wavelengths, like red and orange. This is known as Rayleigh scattering, named after the British physicist Lord Rayleigh, who first described it in the late 19th century.\\n4. As a result, the blue light is dispersed in all directions and reaches our eyes from all parts of the sky, giving it a blue appearance.\\n\\nThe color of the sky can change under different conditions:\\n\\n* During sunrise and sunset, the sky often appears red or orange due to scattering by atmospheric particles.\\n* At night, the sky can appear darker because there is less direct sunlight, but it may still take on hues of blue or purple if atmospheric conditions are favorable.\\n* In areas with high levels of air pollution or dust, the sky can appear hazy or gray.\\n\\nSo, in short, the sky appears blue because of the scattering of sunlight by tiny molecules in the atmosphere, which favors shorter wavelengths like blue and violet.\",\n",
      "        \"images\": null,\n",
      "        \"tool_calls\": null\n",
      "    }\n",
      "}\n"
     ]
    }
   ],
   "source": [
    "import json\n",
    "from pprint import pprint\n",
    "\n",
    "print(json.dumps(response.model_dump(), indent=4))"
   ]
  }
 ],
 "metadata": {
  "kernelspec": {
   "display_name": ".venv",
   "language": "python",
   "name": "python3"
  },
  "language_info": {
   "codemirror_mode": {
    "name": "ipython",
    "version": 3
   },
   "file_extension": ".py",
   "mimetype": "text/x-python",
   "name": "python",
   "nbconvert_exporter": "python",
   "pygments_lexer": "ipython3",
   "version": "3.13.1"
  }
 },
 "nbformat": 4,
 "nbformat_minor": 2
}
